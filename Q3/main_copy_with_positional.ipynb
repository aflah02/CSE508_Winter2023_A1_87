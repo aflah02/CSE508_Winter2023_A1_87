{
 "cells": [
  {
   "cell_type": "code",
   "execution_count": 2,
   "metadata": {},
   "outputs": [],
   "source": [
    "import numpy as np\n",
    "import pandas as pd\n",
    "from nltk.tokenize.treebank import TreebankWordDetokenizer\n",
    "from nltk.tokenize import word_tokenize\n",
    "import os\n",
    "import pickle\n",
    "import string\n",
    "from nltk.corpus import stopwords"
   ]
  },
  {
   "attachments": {},
   "cell_type": "markdown",
   "metadata": {},
   "source": [
    "### Bigram"
   ]
  },
  {
   "cell_type": "code",
   "execution_count": 3,
   "metadata": {},
   "outputs": [],
   "source": [
    "class BigramInvertedIndex:\n",
    "    def __init__(self):\n",
    "        pass\n",
    "\n",
    "    def build_inverted_index(self, list_of_file_paths):\n",
    "        index = {}\n",
    "        for file_path in list_of_file_paths:\n",
    "            with open(file_path, 'r') as f:\n",
    "                line = f.readlines()[0]\n",
    "                tokens = word_tokenize(line)\n",
    "                for i in range(len(tokens) - 1):\n",
    "                    bigram = tokens[i] + ' ' + tokens[i + 1]\n",
    "                    if bigram not in index:\n",
    "                        index[bigram] = []\n",
    "                    if file_path not in index[bigram]:\n",
    "                        index[bigram].append(file_path.split('\\\\')[-1])\n",
    "\n",
    "        self.index = index\n",
    "        self.list_of_file_paths = list_of_file_paths\n",
    "        self.file_names = [file_path.split('\\\\')[-1] for file_path in list_of_file_paths]\n",
    "\n",
    "    def save(self, file_path):\n",
    "        if self.index is None or self.list_of_file_paths is None or self.file_names is None:\n",
    "            raise Exception('Index is not built yet')\n",
    "        with open(file_path, 'wb') as f:\n",
    "            pickle.dump([self.index, self.list_of_file_paths, self.file_names], f)\n",
    "\n",
    "    def load(self, file_path):\n",
    "        with open(file_path, 'rb') as f:\n",
    "            self.index, self.list_of_file_paths, self.file_names = pickle.load(f)\n"
   ]
  },
  {
   "cell_type": "code",
   "execution_count": 4,
   "metadata": {},
   "outputs": [],
   "source": [
    "files = os.listdir('..\\data\\preprocessed_data')\n",
    "file_paths = []\n",
    "for file in files:\n",
    "    file_paths.append('..\\data\\preprocessed_data\\\\' + file)"
   ]
  },
  {
   "cell_type": "code",
   "execution_count": 5,
   "metadata": {},
   "outputs": [],
   "source": [
    "bigram_inverted_index = BigramInvertedIndex()"
   ]
  },
  {
   "cell_type": "code",
   "execution_count": 6,
   "metadata": {},
   "outputs": [],
   "source": [
    "bigram_inverted_index.build_inverted_index(file_paths)"
   ]
  },
  {
   "cell_type": "code",
   "execution_count": 7,
   "metadata": {},
   "outputs": [],
   "source": [
    "bigram_inverted_index.save(r\"Dumps\\bigram_inverted_index.pkl\")"
   ]
  },
  {
   "cell_type": "code",
   "execution_count": 8,
   "metadata": {},
   "outputs": [],
   "source": [
    "stopword_list = stopwords.words('english')\n",
    "\n",
    "stopword_list = stopwords.words('english')\n",
    "\n",
    "def preproc(query):\n",
    "    query = query.lower()\n",
    "    tokenized_text = word_tokenize(query) \n",
    "    filtered_text = [word for word in tokenized_text if word not in stopword_list]\n",
    "    for punc in string.punctuation:\n",
    "        filtered_text = [word for word in filtered_text if word != punc]\n",
    "    filtered_text = [word for word in filtered_text if word != ' ']\n",
    "    bigram_toks = []\n",
    "    for i in range(len(filtered_text) - 1):\n",
    "        bigram_toks.append(filtered_text[i] + ' ' + filtered_text[i + 1])\n",
    "    return bigram_toks"
   ]
  },
  {
   "cell_type": "code",
   "execution_count": 9,
   "metadata": {},
   "outputs": [],
   "source": [
    "class queryHandlerBigram:\n",
    "    def __init__(self, bigram_inverted_index):\n",
    "        self.bigram_inverted_index = bigram_inverted_index\n",
    "        self.index = bigram_inverted_index.index\n",
    "        self.list_of_file_paths = bigram_inverted_index.list_of_file_paths\n",
    "        self.file_names = bigram_inverted_index.file_names\n",
    "\n",
    "    def query(self, sequence):\n",
    "        sequence = preproc(sequence)\n",
    "        doc_lists = []\n",
    "        for token in sequence:\n",
    "            if token in self.index:\n",
    "                doc_lists.append(self.index[token])\n",
    "            else:\n",
    "                doc_lists.append([])\n",
    "\n",
    "        # Perform ops in order of precedence\n",
    "        comparison_count = 0\n",
    "\n",
    "        op_sequence = ['and'] * (len(sequence) - 1)\n",
    "        op_sequence_copy = op_sequence.copy()\n",
    "        while 'and' in op_sequence:\n",
    "            i = op_sequence.index('and')\n",
    "            doc_lists[i], comparisons = self.and_query(doc_lists[i], doc_lists[i + 1])\n",
    "            comparison_count += comparisons\n",
    "            del doc_lists[i + 1]\n",
    "            del op_sequence[i]\n",
    "        \n",
    "        if len(doc_lists) == 0:\n",
    "            doc_lists = []\n",
    "        else:\n",
    "            doc_lists = doc_lists[0]\n",
    "\n",
    "        final_query = \"\"\n",
    "\n",
    "        for token, op in zip(sequence, op_sequence_copy):\n",
    "            final_query += f'{token} {op.upper()} '\n",
    "        final_query += sequence[-1]\n",
    "        \n",
    "        return {\n",
    "            'docs': doc_lists,\n",
    "            'comparisons': comparison_count,\n",
    "            'sequence': sequence,\n",
    "            'op_sequence': op_sequence_copy,\n",
    "            'final_query': final_query\n",
    "        }\n",
    "\n",
    "\n",
    "    def and_query(self, doc_list1, doc_list2):\n",
    "        common_docs = []\n",
    "        comparisons = 0\n",
    "        i = 0\n",
    "        j = 0\n",
    "        while i < len(doc_list1) and j < len(doc_list2):\n",
    "            comparisons += 1\n",
    "            if doc_list1[i] == doc_list2[j]:\n",
    "                common_docs.append(doc_list1[i])\n",
    "                i += 1\n",
    "                j += 1\n",
    "            elif doc_list1[i] < doc_list2[j]:\n",
    "                i += 1\n",
    "            else:\n",
    "                j += 1\n",
    "        return common_docs, comparisons\n",
    "\n"
   ]
  },
  {
   "cell_type": "code",
   "execution_count": 10,
   "metadata": {},
   "outputs": [],
   "source": [
    "query_handler = queryHandlerBigram(bigram_inverted_index)"
   ]
  },
  {
   "cell_type": "code",
   "execution_count": 11,
   "metadata": {},
   "outputs": [
    {
     "data": {
      "text/plain": [
       "{'docs': ['cranfield0003'],\n",
       " 'comparisons': 3,\n",
       " 'sequence': ['boundary layer', 'layer simple'],\n",
       " 'op_sequence': ['and'],\n",
       " 'final_query': 'boundary layer AND layer simple'}"
      ]
     },
     "execution_count": 11,
     "metadata": {},
     "output_type": "execute_result"
    }
   ],
   "source": [
    "query_handler.query('boundary layer simple')"
   ]
  },
  {
   "attachments": {},
   "cell_type": "markdown",
   "metadata": {},
   "source": [
    "### Positional"
   ]
  },
  {
   "cell_type": "code",
   "execution_count": 27,
   "metadata": {},
   "outputs": [],
   "source": [
    "class PositionalIndex:\n",
    "    def __init__(self):\n",
    "        pass\n",
    "\n",
    "    def build_positional_index(self, list_of_file_paths):\n",
    "        index = {}\n",
    "        for file_path in list_of_file_paths:\n",
    "            file_name = file_path.split('\\\\')[-1]\n",
    "            with open(file_path, 'r') as f:\n",
    "                line = f.readlines()[0]\n",
    "                tokens = word_tokenize(line)\n",
    "                for pos, token in enumerate(tokens):\n",
    "                    if token not in index:\n",
    "                        index[token] = {}\n",
    "                    if file_name not in index[token]:\n",
    "                        index[token][file_name] = []\n",
    "                    index[token][file_name].append(pos+1)\n",
    "            f.close()\n",
    "\n",
    "        self.index = index\n",
    "        self.list_of_file_paths = list_of_file_paths\n",
    "        self.file_names = [file_path.split('\\\\')[-1] for file_path in list_of_file_paths]\n",
    "\n",
    "    def save(self, file_path):\n",
    "        if self.index is None or self.list_of_file_paths is None or self.file_names is None:\n",
    "            raise Exception('Index is not built yet')\n",
    "        with open(file_path, 'wb') as f:\n",
    "            pickle.dump([self.index, self.list_of_file_paths, self.file_names], f)\n",
    "\n",
    "    def load(self, file_path):\n",
    "        with open(file_path, 'rb') as f:\n",
    "            self.index, self.list_of_file_paths, self.file_names = pickle.load(f)\n"
   ]
  },
  {
   "cell_type": "code",
   "execution_count": 28,
   "metadata": {},
   "outputs": [],
   "source": [
    "positional_index = PositionalIndex()\n",
    "positional_index.build_positional_index(file_paths)"
   ]
  },
  {
   "cell_type": "code",
   "execution_count": 29,
   "metadata": {},
   "outputs": [],
   "source": [
    "positional_index.save(r\"Dumps\\positional_index.pkl\")"
   ]
  },
  {
   "cell_type": "code",
   "execution_count": 31,
   "metadata": {},
   "outputs": [],
   "source": [
    "class queryHandlerPositional:\n",
    "    def __init__(self, positional_index):\n",
    "        self.positional_index = positional_index\n",
    "        self.index = positional_index.index\n",
    "        self.list_of_file_paths = positional_index.list_of_file_paths\n",
    "        self.file_names = positional_index.file_names\n",
    "\n",
    "    def query(self, sequence):\n",
    "        sequence = preproc(sequence)\n",
    "        doc_lists = []\n",
    "        for token in sequence:\n",
    "            if token in self.index:\n",
    "                doc_lists.append(self.index[token])\n",
    "            else:\n",
    "                doc_lists.append([])\n",
    "\n",
    "        # Perform ops in order of precedence\n",
    "        comparison_count = 0\n",
    "\n",
    "        op_sequence = ['and'] * (len(sequence) - 1)\n",
    "        op_sequence_copy = op_sequence.copy()\n",
    "        while 'and' in op_sequence:\n",
    "            i = op_sequence.index('and')\n",
    "            doc_lists[i], comparisons = self.and_query(doc_lists[i], doc_lists[i + 1])\n",
    "            comparison_count += comparisons\n",
    "            del doc_lists[i + 1]\n",
    "            del op_sequence[i]\n",
    "        \n",
    "        if len(doc_lists) == 0:\n",
    "            doc_lists = []\n",
    "        else:\n",
    "            doc_lists = doc_lists[0]\n",
    "\n",
    "        final_query = \"\"\n",
    "\n",
    "        for token, op in zip(sequence, op_sequence_copy):\n",
    "            final_query += f'{token} {op.upper()} '\n",
    "        final_query += sequence[-1]\n",
    "        \n",
    "        return {\n",
    "            'docs': doc_lists,\n",
    "            'comparisons': comparison_count,\n",
    "            'sequence': sequence,\n",
    "            'op_sequence': op_sequence_copy,\n",
    "            'final_query': final_query\n",
    "        }\n",
    "\n",
    "\n",
    "    def and_query(self, doc_list1, doc_list2):\n",
    "        common_docs = []\n",
    "        comparisons = 0\n",
    "        i = 0\n",
    "        j = 0\n",
    "        while i < len(doc_list1) and j < len(doc_list2):\n",
    "            comparisons += 1\n",
    "            if doc_list1[i] == doc_list2[j]:\n",
    "                common_docs.append(doc_list1[i])\n",
    "                i += 1\n",
    "                j += 1\n",
    "            elif doc_list1[i] < doc_list2[j]:\n",
    "                i += 1\n",
    "            else:\n",
    "                j += 1\n",
    "        return common_docs, comparisons\n",
    "\n"
   ]
  },
  {
   "attachments": {},
   "cell_type": "markdown",
   "metadata": {},
   "source": [
    "### Final IO"
   ]
  },
  {
   "cell_type": "code",
   "execution_count": 11,
   "metadata": {},
   "outputs": [],
   "source": [
    "class mainIO:\n",
    "    def __init__(self, bigram_inverted_index):\n",
    "        self.bigram_inverted_index = bigram_inverted_index\n",
    "        self.query_handler = queryHandlerBigram(bigram_inverted_index)\n",
    "\n",
    "    def run(self):\n",
    "        num_queries = int(input('Enter Number of Queries: '))\n",
    "        ls_queries = []\n",
    "        for i in range(num_queries):\n",
    "            query = input('Enter Query: ')\n",
    "            ls_queries.append(query)\n",
    "        for i, query in enumerate(ls_queries):\n",
    "            query_response = self.query_handler.query(query)\n",
    "            print(f'Number of documents retrieved for query {i+1} using bigram inverted index: {len(query_response[\"docs\"])}')\n",
    "            print(f'Names of documents retrieved for query 1 using bigram inverted index: {query_response[\"docs\"]}')"
   ]
  },
  {
   "cell_type": "code",
   "execution_count": 12,
   "metadata": {},
   "outputs": [
    {
     "name": "stdout",
     "output_type": "stream",
     "text": [
      "Number of documents retrieved for query 1 using bigram inverted index: 1\n",
      "Names of documents retrieved for query 1 using bigram inverted index: ['cranfield0003']\n"
     ]
    }
   ],
   "source": [
    "mainIO(bigram_inverted_index).run()"
   ]
  },
  {
   "cell_type": "code",
   "execution_count": null,
   "metadata": {},
   "outputs": [],
   "source": []
  }
 ],
 "metadata": {
  "kernelspec": {
   "display_name": "venv",
   "language": "python",
   "name": "python3"
  },
  "language_info": {
   "codemirror_mode": {
    "name": "ipython",
    "version": 3
   },
   "file_extension": ".py",
   "mimetype": "text/x-python",
   "name": "python",
   "nbconvert_exporter": "python",
   "pygments_lexer": "ipython3",
   "version": "3.10.2"
  },
  "orig_nbformat": 4,
  "vscode": {
   "interpreter": {
    "hash": "7bfc326c07f10430406e4e05fde621c7c80718159b1e4474ec39e68af4d53157"
   }
  }
 },
 "nbformat": 4,
 "nbformat_minor": 2
}
