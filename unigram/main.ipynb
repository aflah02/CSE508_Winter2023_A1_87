{
 "cells": [
  {
   "cell_type": "code",
   "execution_count": 36,
   "metadata": {},
   "outputs": [],
   "source": [
    "import numpy as np\n",
    "import pandas as pd\n",
    "from nltk.tokenize.treebank import TreebankWordDetokenizer\n",
    "from nltk.tokenize import word_tokenize\n",
    "import os\n",
    "import pickle"
   ]
  },
  {
   "cell_type": "code",
   "execution_count": 37,
   "metadata": {},
   "outputs": [],
   "source": [
    "class UnigramInvertedIndex:\n",
    "    def __init__(self):\n",
    "        pass\n",
    "\n",
    "    def build_inverted_index(self, list_of_file_paths):\n",
    "        index = {}\n",
    "        for file_path in list_of_file_paths:\n",
    "            with open(file_path, 'r') as f:\n",
    "                line = f.readlines()[0]\n",
    "                tokens = word_tokenize(line)\n",
    "                for token in tokens:\n",
    "                    if token not in index:\n",
    "                        index[token] = [file_path.split('\\\\')[-1]]\n",
    "                    else:\n",
    "                        if file_path.split('\\\\')[-1] not in index[token]:\n",
    "                            index[token].append(file_path.split('\\\\')[-1])\n",
    "        self.index = index\n",
    "        self.list_of_file_paths = list_of_file_paths\n",
    "\n",
    "    def save(self, file_path):\n",
    "        if self.index is None or self.list_of_file_paths is None:\n",
    "            raise Exception('Index is not built yet')\n",
    "        with open(file_path, 'wb') as f:\n",
    "            pickle.dump([self.index, self.list_of_file_paths], f)\n",
    "\n",
    "    def load(self, file_path):\n",
    "        with open(file_path, 'rb') as f:\n",
    "            self.index, self.list_of_file_paths = pickle.load(f)\n"
   ]
  },
  {
   "cell_type": "code",
   "execution_count": 38,
   "metadata": {},
   "outputs": [],
   "source": [
    "files = os.listdir('..\\data\\preprocessed_data')\n",
    "file_paths = []\n",
    "for file in files:\n",
    "    file_paths.append('..\\data\\preprocessed_data\\\\' + file)"
   ]
  },
  {
   "cell_type": "code",
   "execution_count": 39,
   "metadata": {},
   "outputs": [],
   "source": [
    "unigram_inverted_index = UnigramInvertedIndex()"
   ]
  },
  {
   "cell_type": "code",
   "execution_count": 40,
   "metadata": {},
   "outputs": [],
   "source": [
    "unigram_inverted_index.build_inverted_index(file_paths)"
   ]
  },
  {
   "cell_type": "code",
   "execution_count": 41,
   "metadata": {},
   "outputs": [],
   "source": [
    "unigram_inverted_index.save(r\"Dumps\\unigram_inverted_index.pkl\")"
   ]
  },
  {
   "cell_type": "code",
   "execution_count": null,
   "metadata": {},
   "outputs": [],
   "source": [
    "class BooleanOps:\n",
    "    "
   ]
  }
 ],
 "metadata": {
  "kernelspec": {
   "display_name": "Python 3",
   "language": "python",
   "name": "python3"
  },
  "language_info": {
   "codemirror_mode": {
    "name": "ipython",
    "version": 3
   },
   "file_extension": ".py",
   "mimetype": "text/x-python",
   "name": "python",
   "nbconvert_exporter": "python",
   "pygments_lexer": "ipython3",
   "version": "3.9.13"
  },
  "orig_nbformat": 4,
  "vscode": {
   "interpreter": {
    "hash": "a5a87ee616be0254e3f1af9223138e3faeac65b2c9d91bc22a9fc5a4a8bd8eb0"
   }
  }
 },
 "nbformat": 4,
 "nbformat_minor": 2
}
