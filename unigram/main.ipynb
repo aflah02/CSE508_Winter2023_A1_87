{
 "cells": [
  {
   "cell_type": "code",
   "execution_count": 46,
   "metadata": {},
   "outputs": [],
   "source": [
    "import numpy as np\n",
    "import pandas as pd\n",
    "from nltk.tokenize.treebank import TreebankWordDetokenizer\n",
    "from nltk.tokenize import word_tokenize\n",
    "import os\n",
    "import pickle\n",
    "import string\n",
    "from nltk.corpus import stopwords"
   ]
  },
  {
   "cell_type": "code",
   "execution_count": 100,
   "metadata": {},
   "outputs": [],
   "source": [
    "class UnigramInvertedIndex:\n",
    "    def __init__(self):\n",
    "        pass\n",
    "\n",
    "    def build_inverted_index(self, list_of_file_paths):\n",
    "        index = {}\n",
    "        for file_path in list_of_file_paths:\n",
    "            with open(file_path, 'r') as f:\n",
    "                line = f.readlines()[0]\n",
    "                tokens = word_tokenize(line)\n",
    "                for token in tokens:\n",
    "                    if token not in index:\n",
    "                        index[token] = [file_path.split('\\\\')[-1]]\n",
    "                    else:\n",
    "                        if file_path.split('\\\\')[-1] not in index[token]:\n",
    "                            index[token].append(file_path.split('\\\\')[-1])\n",
    "        self.index = index\n",
    "        self.list_of_file_paths = list_of_file_paths\n",
    "        self.file_names = [file_path.split('\\\\')[-1] for file_path in list_of_file_paths]\n",
    "\n",
    "    def save(self, file_path):\n",
    "        if self.index is None or self.list_of_file_paths is None or self.file_names is None:\n",
    "            raise Exception('Index is not built yet')\n",
    "        with open(file_path, 'wb') as f:\n",
    "            pickle.dump([self.index, self.list_of_file_paths, self.file_names], f)\n",
    "\n",
    "    def load(self, file_path):\n",
    "        with open(file_path, 'rb') as f:\n",
    "            self.index, self.list_of_file_paths, self.file_names = pickle.load(f)\n"
   ]
  },
  {
   "cell_type": "code",
   "execution_count": 101,
   "metadata": {},
   "outputs": [],
   "source": [
    "files = os.listdir('..\\data\\preprocessed_data')\n",
    "file_paths = []\n",
    "for file in files:\n",
    "    file_paths.append('..\\data\\preprocessed_data\\\\' + file)"
   ]
  },
  {
   "cell_type": "code",
   "execution_count": 102,
   "metadata": {},
   "outputs": [],
   "source": [
    "unigram_inverted_index = UnigramInvertedIndex()"
   ]
  },
  {
   "cell_type": "code",
   "execution_count": 103,
   "metadata": {},
   "outputs": [],
   "source": [
    "unigram_inverted_index.build_inverted_index(file_paths)"
   ]
  },
  {
   "cell_type": "code",
   "execution_count": 104,
   "metadata": {},
   "outputs": [],
   "source": [
    "unigram_inverted_index.save(r\"Dumps\\unigram_inverted_index.pkl\")"
   ]
  },
  {
   "cell_type": "code",
   "execution_count": 105,
   "metadata": {},
   "outputs": [],
   "source": [
    "stopword_list = stopwords.words('english')\n",
    "\n",
    "def preproc(query):\n",
    "    query = query.lower()\n",
    "    punctuation_filtered_text = query\n",
    "    for punc in string.punctuation:\n",
    "        punctuation_filtered_text = punctuation_filtered_text.replace(punc, '')\n",
    "    filtered_text = ' '.join(punctuation_filtered_text.split())\n",
    "    tokenized_text = word_tokenize(filtered_text)\n",
    "    filtered_text = [word for word in tokenized_text if word not in stopword_list]\n",
    "    return filtered_text"
   ]
  },
  {
   "cell_type": "code",
   "execution_count": 136,
   "metadata": {},
   "outputs": [],
   "source": [
    "class queryHandler:\n",
    "    def __init__(self, unigram_inverted_index):\n",
    "        self.unigram_inverted_index = unigram_inverted_index\n",
    "        self.index = unigram_inverted_index.index\n",
    "        self.list_of_file_paths = unigram_inverted_index.list_of_file_paths\n",
    "        self.file_names = unigram_inverted_index.file_names\n",
    "\n",
    "    def query(self, sequence, op_sequence):\n",
    "        sequence = preproc(sequence)\n",
    "        op_sequence = op_sequence.split(',')\n",
    "        op_sequence = [op.strip().lower() for op in op_sequence]\n",
    "        doc_lists = []\n",
    "        for token in sequence:\n",
    "            if token in self.index:\n",
    "                doc_lists.append(self.index[token])\n",
    "            else:\n",
    "                doc_lists.append([])\n",
    "        possible_boolean_ops = ['and', 'or', 'and not', 'or not']\n",
    "        for op in op_sequence:\n",
    "            if op not in possible_boolean_ops:\n",
    "                raise Exception(f'Invalid boolean operator {op}')\n",
    "        if len(op_sequence) != len(sequence) - 1:\n",
    "            raise Exception(f'Invalid query sequence. Expected {len(sequence) - 1} boolean operators, got {len(op_sequence)}')\n",
    "\n",
    "        op_sequence_copy = op_sequence.copy()\n",
    "\n",
    "        # Perform ops in order of precedence\n",
    "        comparison_count = 0\n",
    "\n",
    "        while op_sequence != []:\n",
    "            if 'and not' in op_sequence:\n",
    "                and_not_index = op_sequence.index('and not')\n",
    "                op_sequence.pop(and_not_index)\n",
    "                doc_lists[and_not_index], comps = self.and_not_query(doc_lists[and_not_index], doc_lists[and_not_index + 1])\n",
    "                comparison_count += comps\n",
    "                doc_lists.pop(and_not_index + 1)\n",
    "            if 'and' in op_sequence:\n",
    "                and_index = op_sequence.index('and')\n",
    "                op_sequence.pop(and_index)\n",
    "                doc_lists[and_index], comps = self.and_query(doc_lists[and_index], doc_lists[and_index + 1])\n",
    "                comparison_count += comps\n",
    "                doc_lists.pop(and_index + 1)\n",
    "            if 'or not' in op_sequence:\n",
    "                or_not_index = op_sequence.index('or not')\n",
    "                op_sequence.pop(or_not_index)\n",
    "                doc_lists[or_not_index], comps = self.or_not_query(doc_lists[or_not_index], doc_lists[or_not_index + 1])\n",
    "                comparison_count += comps\n",
    "                doc_lists.pop(or_not_index + 1)\n",
    "            if 'or' in op_sequence:\n",
    "                or_index = op_sequence.index('or')\n",
    "                op_sequence.pop(or_index)\n",
    "                doc_lists[or_index], comps = self.or_query(doc_lists[or_index], doc_lists[or_index + 1])\n",
    "                comparison_count += comps\n",
    "                doc_lists.pop(or_index + 1)\n",
    "\n",
    "        doc_lists = sorted(doc_lists[0])\n",
    "\n",
    "        final_query = \"\"\n",
    "\n",
    "        for token, op in zip(sequence, op_sequence_copy):\n",
    "            final_query += f'{token} {op.upper()} '\n",
    "        final_query += sequence[-1]\n",
    "        \n",
    "        return {\n",
    "            'docs': doc_lists,\n",
    "            'comparisons': comparison_count,\n",
    "            'sequence': sequence,\n",
    "            'op_sequence': op_sequence_copy,\n",
    "            'final_query': final_query\n",
    "        }\n",
    "\n",
    "    def not_query(self, doc_list):\n",
    "        return sorted(list(set(self.file_names).difference(set(doc_list))))\n",
    "\n",
    "    def and_query(self, doc_list1, doc_list2):\n",
    "        common_docs = []\n",
    "        comparisons = 0\n",
    "        i = 0\n",
    "        j = 0\n",
    "        while i < len(doc_list1) and j < len(doc_list2):\n",
    "            comparisons += 1\n",
    "            if doc_list1[i] == doc_list2[j]:\n",
    "                common_docs.append(doc_list1[i])\n",
    "                i += 1\n",
    "                j += 1\n",
    "            elif doc_list1[i] < doc_list2[j]:\n",
    "                i += 1\n",
    "            else:\n",
    "                j += 1\n",
    "        return common_docs, comparisons\n",
    "\n",
    "    def or_query(self, doc_list1, doc_list2):\n",
    "        common_docs = []\n",
    "        comparisons = 0\n",
    "        i = 0\n",
    "        j = 0\n",
    "        while i < len(doc_list1) and j < len(doc_list2):\n",
    "            comparisons += 1\n",
    "            if doc_list1[i] == doc_list2[j]:\n",
    "                common_docs.append(doc_list1[i])\n",
    "                i += 1\n",
    "                j += 1\n",
    "            elif doc_list1[i] < doc_list2[j]:\n",
    "                common_docs.append(doc_list1[i])\n",
    "                i += 1\n",
    "            else:\n",
    "                common_docs.append(doc_list2[j])\n",
    "                j += 1\n",
    "        while i < len(doc_list1):\n",
    "            common_docs.append(doc_list1[i])\n",
    "            i += 1\n",
    "        while j < len(doc_list2):\n",
    "            common_docs.append(doc_list2[j])\n",
    "            j += 1\n",
    "        return common_docs, comparisons\n",
    "\n",
    "    def and_not_query(self, doc_list1, doc_list2):\n",
    "        not_doct_list2 = self.not_query(doc_list2)\n",
    "        return self.and_query(doc_list1, not_doct_list2)\n",
    "    \n",
    "    def or_not_query(self, doc_list1, doc_list2):\n",
    "        not_doct_list2 = self.not_query(doc_list2)\n",
    "        return self.or_query(doc_list1, not_doct_list2)\n",
    "\n"
   ]
  },
  {
   "cell_type": "code",
   "execution_count": 137,
   "metadata": {},
   "outputs": [],
   "source": [
    "query_handler = queryHandler(unigram_inverted_index)"
   ]
  },
  {
   "cell_type": "code",
   "execution_count": 138,
   "metadata": {},
   "outputs": [
    {
     "data": {
      "text/plain": [
       "{'docs': ['cranfield0611', 'cranfield0873', 'cranfield1254'],\n",
       " 'comparisons': 1586,\n",
       " 'sequence': ['laminar', 'complex', 'potential'],\n",
       " 'op_sequence': ['and', 'and not'],\n",
       " 'final_query': 'laminar AND complex AND NOT potential'}"
      ]
     },
     "execution_count": 138,
     "metadata": {},
     "output_type": "execute_result"
    }
   ],
   "source": [
    "query_handler.query('laminar complex potential', 'and, and not')"
   ]
  },
  {
   "cell_type": "code",
   "execution_count": 142,
   "metadata": {},
   "outputs": [],
   "source": [
    "class mainIO:\n",
    "    def __init__(self, unigram_inverted_index):\n",
    "        self.unigram_inverted_index = unigram_inverted_index\n",
    "        self.query_handler = queryHandler(unigram_inverted_index)\n",
    "\n",
    "    def run(self):\n",
    "        num_queries = int(input('Enter Number of Queries: '))\n",
    "        for i in range(num_queries):\n",
    "            query = input('Enter Query: ')\n",
    "            op_sequence = input('Enter Operator Sequence: ')\n",
    "            query_response = self.query_handler.query(query, op_sequence)\n",
    "            print(f'Query {i+1}: {query_response[\"final_query\"]}')\n",
    "            print(f'Number of documents retrieved for query {i+1}: {len(query_response[\"docs\"])}')\n",
    "            print(f'Names of the documents retrieved for query {i+1}: {query_response[\"docs\"]}')\n",
    "            print(f'Number of comparisons required for query {i+1}: {query_response[\"comparisons\"]}')"
   ]
  },
  {
   "cell_type": "code",
   "execution_count": 144,
   "metadata": {},
   "outputs": [
    {
     "name": "stdout",
     "output_type": "stream",
     "text": [
      "Query 1: reynolds AND number AND potential\n",
      "Number of documents retrieved for query 1: 3\n",
      "Names of the documents retrieved for query 1: ['cranfield0530', 'cranfield0964', 'cranfield1188']\n",
      "Number of comparisons required for query 1: 723\n"
     ]
    }
   ],
   "source": [
    "mainIO(unigram_inverted_index).run()"
   ]
  },
  {
   "cell_type": "code",
   "execution_count": null,
   "metadata": {},
   "outputs": [],
   "source": []
  }
 ],
 "metadata": {
  "kernelspec": {
   "display_name": "Python 3",
   "language": "python",
   "name": "python3"
  },
  "language_info": {
   "codemirror_mode": {
    "name": "ipython",
    "version": 3
   },
   "file_extension": ".py",
   "mimetype": "text/x-python",
   "name": "python",
   "nbconvert_exporter": "python",
   "pygments_lexer": "ipython3",
   "version": "3.9.13"
  },
  "orig_nbformat": 4,
  "vscode": {
   "interpreter": {
    "hash": "a5a87ee616be0254e3f1af9223138e3faeac65b2c9d91bc22a9fc5a4a8bd8eb0"
   }
  }
 },
 "nbformat": 4,
 "nbformat_minor": 2
}
