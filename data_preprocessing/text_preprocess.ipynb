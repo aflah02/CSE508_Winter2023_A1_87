{
 "cells": [
  {
   "cell_type": "code",
   "execution_count": 12,
   "metadata": {},
   "outputs": [],
   "source": [
    "import os, nltk\n",
    "from nltk.tokenize.treebank import TreebankWordDetokenizer\n",
    "from nltk.tokenize import word_tokenize\n",
    "from nltk.corpus import stopwords\n",
    "import string"
   ]
  },
  {
   "cell_type": "code",
   "execution_count": 9,
   "metadata": {},
   "outputs": [],
   "source": [
    "raw_dataset_path = \"../data/raw_data/\"\n",
    "preprocessed_dataset_path = \"../data/preprocessed_data/\"\n",
    "\n",
    "stopword_list = stopwords.words('english')"
   ]
  },
  {
   "cell_type": "code",
   "execution_count": 24,
   "metadata": {},
   "outputs": [],
   "source": [
    "for each_file in os.listdir(raw_dataset_path):\n",
    "    current_file_path = os.path.join(raw_dataset_path, each_file)\n",
    "    preprocessed_file_path = os.path.join(preprocessed_dataset_path, each_file)\n",
    "    with open(current_file_path, \"r\") as file:\n",
    "        text = file.read()\n",
    "    file.close()\n",
    "\n",
    "    text = text.lower()         # Lowercase\n",
    "    punctuation_filtered_text = text\n",
    "    for punc in string.punctuation:\n",
    "        punctuation_filtered_text = punctuation_filtered_text.replace(punc, '')         # Removing punctuations\n",
    "\n",
    "    filtered_text = ' '.join(punctuation_filtered_text.split())       # Removing blank space tokens\n",
    "    tokenized_text = word_tokenize(filtered_text)        # Tokenizing the sentence\n",
    "    filtered_text = [word for word in tokenized_text if word not in stopword_list]          # Removing the stopwords\n",
    "\n",
    "    detokenized_text = TreebankWordDetokenizer().detokenize(filtered_text)         # Converting the list of tokens back to the original free text format\n",
    "\n",
    "    with open(preprocessed_file_path, \"w\") as file:\n",
    "        file.write(detokenized_text)\n",
    "    file.close()"
   ]
  }
 ],
 "metadata": {
  "kernelspec": {
   "display_name": "venv",
   "language": "python",
   "name": "python3"
  },
  "language_info": {
   "codemirror_mode": {
    "name": "ipython",
    "version": 3
   },
   "file_extension": ".py",
   "mimetype": "text/x-python",
   "name": "python",
   "nbconvert_exporter": "python",
   "pygments_lexer": "ipython3",
   "version": "3.10.2"
  },
  "orig_nbformat": 4,
  "vscode": {
   "interpreter": {
    "hash": "7bfc326c07f10430406e4e05fde621c7c80718159b1e4474ec39e68af4d53157"
   }
  }
 },
 "nbformat": 4,
 "nbformat_minor": 2
}
