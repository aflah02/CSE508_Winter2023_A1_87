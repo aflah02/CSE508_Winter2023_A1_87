{
 "cells": [
  {
   "cell_type": "code",
   "execution_count": 33,
   "metadata": {},
   "outputs": [],
   "source": [
    "import os, re"
   ]
  },
  {
   "cell_type": "code",
   "execution_count": 31,
   "metadata": {},
   "outputs": [],
   "source": [
    "raw_dataset_path = \"../data/raw_data/\""
   ]
  },
  {
   "cell_type": "code",
   "execution_count": 32,
   "metadata": {},
   "outputs": [],
   "source": [
    "for each_file in os.listdir(raw_dataset_path):\n",
    "    current_file_path = os.path.join(raw_dataset_path, each_file)\n",
    "    with open(current_file_path, \"r\") as file:\n",
    "        temp = file.read()\n",
    "    file.close()\n",
    "\n",
    "    temp = temp.replace(\"\\n\", \" \")\n",
    "    title_text = re.search(r\"<TITLE>(.*)</TITLE>\", temp).group(1)\n",
    "    body_text = re.search(r\"<TEXT>(.*)</TEXT>\", temp).group(1)\n",
    "    \n",
    "    final_text = title_text + \" \" + body_text\n",
    "    open(current_file_path, \"w\").close()\n",
    "    with open(current_file_path, \"w\") as file:\n",
    "        file.write(final_text)\n",
    "    file.close()"
   ]
  }
 ],
 "metadata": {
  "kernelspec": {
   "display_name": "venv",
   "language": "python",
   "name": "python3"
  },
  "language_info": {
   "codemirror_mode": {
    "name": "ipython",
    "version": 3
   },
   "file_extension": ".py",
   "mimetype": "text/x-python",
   "name": "python",
   "nbconvert_exporter": "python",
   "pygments_lexer": "ipython3",
   "version": "3.10.2"
  },
  "orig_nbformat": 4,
  "vscode": {
   "interpreter": {
    "hash": "7bfc326c07f10430406e4e05fde621c7c80718159b1e4474ec39e68af4d53157"
   }
  }
 },
 "nbformat": 4,
 "nbformat_minor": 2
}
