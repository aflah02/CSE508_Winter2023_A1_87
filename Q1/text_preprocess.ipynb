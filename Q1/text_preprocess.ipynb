{
 "cells": [
  {
   "cell_type": "code",
   "execution_count": 1,
   "metadata": {},
   "outputs": [],
   "source": [
    "import os, nltk\n",
    "from nltk.tokenize.treebank import TreebankWordDetokenizer\n",
    "from nltk.tokenize import word_tokenize\n",
    "from nltk.corpus import stopwords\n",
    "import string"
   ]
  },
  {
   "cell_type": "code",
   "execution_count": 2,
   "metadata": {},
   "outputs": [],
   "source": [
    "raw_dataset_path = \"../data/raw_data/\"\n",
    "preprocessed_dataset_path = \"../data/preprocessed_data/\"\n",
    "\n",
    "stopword_list = stopwords.words('english')"
   ]
  },
  {
   "cell_type": "code",
   "execution_count": 3,
   "metadata": {},
   "outputs": [],
   "source": [
    "for each_file in os.listdir(raw_dataset_path):\n",
    "    current_file_path = os.path.join(raw_dataset_path, each_file)\n",
    "    preprocessed_file_path = os.path.join(preprocessed_dataset_path, each_file)\n",
    "    with open(current_file_path, \"r\") as file:\n",
    "        text = file.read()\n",
    "    file.close()\n",
    "    # Convert to Lowercase\n",
    "    text = text.lower()\n",
    "    # Remove Stopwords\n",
    "    tokenized_text = word_tokenize(text) \n",
    "    # Remove Stopwords\n",
    "    filtered_text = [word for word in tokenized_text if word not in stopword_list] \n",
    "    # Remove Punctuations\n",
    "    for punc in string.punctuation:\n",
    "        filtered_text = [word for word in filtered_text if word != punc]\n",
    "    # Remove Blank Space Tokens\n",
    "    filtered_text = [word for word in filtered_text if word != ' ']\n",
    "    # Detokenize\n",
    "    detokenized_text = TreebankWordDetokenizer().detokenize(filtered_text)    \n",
    "\n",
    "    with open(preprocessed_file_path, \"w\") as file:\n",
    "        file.write(detokenized_text)\n",
    "    file.close()"
   ]
  }
 ],
 "metadata": {
  "kernelspec": {
   "display_name": "Python 3",
   "language": "python",
   "name": "python3"
  },
  "language_info": {
   "codemirror_mode": {
    "name": "ipython",
    "version": 3
   },
   "file_extension": ".py",
   "mimetype": "text/x-python",
   "name": "python",
   "nbconvert_exporter": "python",
   "pygments_lexer": "ipython3",
   "version": "3.9.13"
  },
  "orig_nbformat": 4,
  "vscode": {
   "interpreter": {
    "hash": "a5a87ee616be0254e3f1af9223138e3faeac65b2c9d91bc22a9fc5a4a8bd8eb0"
   }
  }
 },
 "nbformat": 4,
 "nbformat_minor": 2
}
